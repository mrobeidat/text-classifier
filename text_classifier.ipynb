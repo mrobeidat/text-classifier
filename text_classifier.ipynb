{
 "cells": [
  {
   "cell_type": "markdown",
   "id": "74ab1765-76e2-41e9-962b-d93eecf58cd0",
   "metadata": {
    "tags": []
   },
   "source": [
    "## import pandas library and sklearn"
   ]
  },
  {
   "cell_type": "code",
   "execution_count": 1,
   "id": "c188cf5d-1ba1-458c-b496-694ec7ac1143",
   "metadata": {},
   "outputs": [],
   "source": [
    "import pandas as pd\n",
    "from sklearn.feature_extraction.text import CountVectorizer\n",
    "from sklearn.model_selection import train_test_split\n",
    "from sklearn.linear_model import LogisticRegression"
   ]
  },
  {
   "cell_type": "markdown",
   "id": "ac3b15bc-19c8-4a28-8a9c-36f6f067f39a",
   "metadata": {},
   "source": [
    "## Put files path"
   ]
  },
  {
   "cell_type": "code",
   "execution_count": 13,
   "id": "2446d2ce-daca-424b-9d14-41e1f8fd0c8c",
   "metadata": {},
   "outputs": [],
   "source": [
    "filepath_dict = {'yelp':   'yelp_labelled.txt',\n",
    "                 'amazon': 'amazon_cells_labelled.txt',\n",
    "                 'imdb':   'imdb_labelled.txt'}"
   ]
  },
  {
   "cell_type": "markdown",
   "id": "541d275e-3dad-4d0b-a28e-e17c3c329e10",
   "metadata": {},
   "source": [
    "## Read the data"
   ]
  },
  {
   "cell_type": "code",
   "execution_count": 12,
   "id": "5118d400-cfbf-4cbe-a622-c4cb93e0117e",
   "metadata": {},
   "outputs": [
    {
     "name": "stdout",
     "output_type": "stream",
     "text": [
      "sentence    Wow... Loved this place.\n",
      "label                              1\n",
      "source                          yelp\n",
      "Name: 0, dtype: object\n"
     ]
    }
   ],
   "source": [
    "df_list = [] \n",
    "\n",
    "for source, path in filepath_dict.items():\n",
    "    df = pd.read_csv(path, names=['sentence', 'label'], sep='\\t')\n",
    "    df['source'] = source \n",
    "    df_list.append(df)\n",
    "\n",
    "df = pd.concat(df_list)\n",
    "print(df.iloc[0])"
   ]
  },
  {
   "cell_type": "markdown",
   "id": "a231a331-70c5-401e-8f0d-141ed235923f",
   "metadata": {},
   "source": [
    "## Declare vectorizer"
   ]
  },
  {
   "cell_type": "code",
   "execution_count": 18,
   "id": "c1d6d4cc-ec7b-4f25-bb7c-2b06fcd74940",
   "metadata": {},
   "outputs": [],
   "source": [
    "sentences = ['John likes ice cream', 'John hates chocolate.']"
   ]
  },
  {
   "cell_type": "code",
   "execution_count": 19,
   "id": "3217689d-dbeb-40b6-84ed-010a707c05e2",
   "metadata": {},
   "outputs": [
    {
     "data": {
      "text/plain": [
       "CountVectorizer(lowercase=False, min_df=0)"
      ]
     },
     "execution_count": 19,
     "metadata": {},
     "output_type": "execute_result"
    }
   ],
   "source": [
    "vectorizer = CountVectorizer(min_df=0, lowercase=False)\n",
    "vectorizer"
   ]
  },
  {
   "cell_type": "markdown",
   "id": "662d1004-f187-4b1f-96e5-43aab0a40f64",
   "metadata": {},
   "source": [
    "## Fitting the data "
   ]
  },
  {
   "cell_type": "code",
   "execution_count": 10,
   "id": "c73afca8-090d-4643-8310-63bc12dd86b0",
   "metadata": {},
   "outputs": [
    {
     "data": {
      "text/plain": [
       "{'John': 0, 'likes': 5, 'ice': 4, 'cream': 2, 'hates': 3, 'chocolate': 1}"
      ]
     },
     "execution_count": 10,
     "metadata": {},
     "output_type": "execute_result"
    }
   ],
   "source": [
    "vectorizer.fit(sentences)\n",
    "vectorizer.vocabulary_"
   ]
  },
  {
   "cell_type": "markdown",
   "id": "f0157d9c-836c-4676-9e2f-33d970997dc7",
   "metadata": {},
   "source": [
    "## Yelp The Data"
   ]
  },
  {
   "cell_type": "code",
   "execution_count": 21,
   "id": "01160b54-0911-4715-9e4e-e9a29309c46e",
   "metadata": {},
   "outputs": [
    {
     "data": {
      "text/html": [
       "<div>\n",
       "<style scoped>\n",
       "    .dataframe tbody tr th:only-of-type {\n",
       "        vertical-align: middle;\n",
       "    }\n",
       "\n",
       "    .dataframe tbody tr th {\n",
       "        vertical-align: top;\n",
       "    }\n",
       "\n",
       "    .dataframe thead th {\n",
       "        text-align: right;\n",
       "    }\n",
       "</style>\n",
       "<table border=\"1\" class=\"dataframe\">\n",
       "  <thead>\n",
       "    <tr style=\"text-align: right;\">\n",
       "      <th></th>\n",
       "      <th>sentence</th>\n",
       "      <th>label</th>\n",
       "      <th>source</th>\n",
       "    </tr>\n",
       "  </thead>\n",
       "  <tbody>\n",
       "    <tr>\n",
       "      <th>0</th>\n",
       "      <td>Wow... Loved this place.</td>\n",
       "      <td>1</td>\n",
       "      <td>yelp</td>\n",
       "    </tr>\n",
       "    <tr>\n",
       "      <th>1</th>\n",
       "      <td>Crust is not good.</td>\n",
       "      <td>0</td>\n",
       "      <td>yelp</td>\n",
       "    </tr>\n",
       "    <tr>\n",
       "      <th>2</th>\n",
       "      <td>Not tasty and the texture was just nasty.</td>\n",
       "      <td>0</td>\n",
       "      <td>yelp</td>\n",
       "    </tr>\n",
       "    <tr>\n",
       "      <th>3</th>\n",
       "      <td>Stopped by during the late May bank holiday of...</td>\n",
       "      <td>1</td>\n",
       "      <td>yelp</td>\n",
       "    </tr>\n",
       "    <tr>\n",
       "      <th>4</th>\n",
       "      <td>The selection on the menu was great and so wer...</td>\n",
       "      <td>1</td>\n",
       "      <td>yelp</td>\n",
       "    </tr>\n",
       "    <tr>\n",
       "      <th>...</th>\n",
       "      <td>...</td>\n",
       "      <td>...</td>\n",
       "      <td>...</td>\n",
       "    </tr>\n",
       "    <tr>\n",
       "      <th>995</th>\n",
       "      <td>I think food should have flavor and texture an...</td>\n",
       "      <td>0</td>\n",
       "      <td>yelp</td>\n",
       "    </tr>\n",
       "    <tr>\n",
       "      <th>996</th>\n",
       "      <td>Appetite instantly gone.</td>\n",
       "      <td>0</td>\n",
       "      <td>yelp</td>\n",
       "    </tr>\n",
       "    <tr>\n",
       "      <th>997</th>\n",
       "      <td>Overall I was not impressed and would not go b...</td>\n",
       "      <td>0</td>\n",
       "      <td>yelp</td>\n",
       "    </tr>\n",
       "    <tr>\n",
       "      <th>998</th>\n",
       "      <td>The whole experience was underwhelming, and I ...</td>\n",
       "      <td>0</td>\n",
       "      <td>yelp</td>\n",
       "    </tr>\n",
       "    <tr>\n",
       "      <th>999</th>\n",
       "      <td>Then, as if I hadn't wasted enough of my life ...</td>\n",
       "      <td>0</td>\n",
       "      <td>yelp</td>\n",
       "    </tr>\n",
       "  </tbody>\n",
       "</table>\n",
       "<p>1000 rows × 3 columns</p>\n",
       "</div>"
      ],
      "text/plain": [
       "                                              sentence  label source\n",
       "0                             Wow... Loved this place.      1   yelp\n",
       "1                                   Crust is not good.      0   yelp\n",
       "2            Not tasty and the texture was just nasty.      0   yelp\n",
       "3    Stopped by during the late May bank holiday of...      1   yelp\n",
       "4    The selection on the menu was great and so wer...      1   yelp\n",
       "..                                                 ...    ...    ...\n",
       "995  I think food should have flavor and texture an...      0   yelp\n",
       "996                           Appetite instantly gone.      0   yelp\n",
       "997  Overall I was not impressed and would not go b...      0   yelp\n",
       "998  The whole experience was underwhelming, and I ...      0   yelp\n",
       "999  Then, as if I hadn't wasted enough of my life ...      0   yelp\n",
       "\n",
       "[1000 rows x 3 columns]"
      ]
     },
     "execution_count": 21,
     "metadata": {},
     "output_type": "execute_result"
    }
   ],
   "source": [
    "df_yelp = df[df['source'] == 'yelp']\n",
    "df_yelp"
   ]
  },
  {
   "cell_type": "code",
   "execution_count": 41,
   "id": "d82a1081-9473-45d7-a53d-9973e9776041",
   "metadata": {},
   "outputs": [],
   "source": [
    "sentences = df_yelp['sentence'].values"
   ]
  },
  {
   "cell_type": "code",
   "execution_count": null,
   "id": "e0966ba6-31d1-42cc-ac83-894a78855724",
   "metadata": {},
   "outputs": [],
   "source": [
    "y = df_yelp['label'].values"
   ]
  },
  {
   "cell_type": "code",
   "execution_count": 37,
   "id": "61d569ad-e731-4980-b79b-61fc262141a7",
   "metadata": {},
   "outputs": [],
   "source": [
    "x_train , x_test , y_train , y_test = train_test_split(sentences, y, test_size=0.6, random_state=100)"
   ]
  },
  {
   "cell_type": "code",
   "execution_count": 28,
   "id": "b77f6513-5486-4d30-a7ac-94cd3a78813b",
   "metadata": {},
   "outputs": [
    {
     "data": {
      "text/plain": [
       "CountVectorizer()"
      ]
     },
     "execution_count": 28,
     "metadata": {},
     "output_type": "execute_result"
    }
   ],
   "source": [
    "vectorizer = CountVectorizer()\n",
    "vectorizer\n",
    "\n",
    "vectorizer.fit(x_train)\n",
    "vectorizer"
   ]
  },
  {
   "cell_type": "code",
   "execution_count": 29,
   "id": "a8990d5b-1ebc-4929-b25e-a6221374b51a",
   "metadata": {},
   "outputs": [
    {
     "data": {
      "text/plain": [
       "<400x1185 sparse matrix of type '<class 'numpy.int64'>'\n",
       "\twith 3911 stored elements in Compressed Sparse Row format>"
      ]
     },
     "execution_count": 29,
     "metadata": {},
     "output_type": "execute_result"
    }
   ],
   "source": [
    "X_train = vectorizer.transform(x_train)\n",
    "X_train"
   ]
  },
  {
   "cell_type": "code",
   "execution_count": 30,
   "id": "68e947e5-6b85-41ba-afe8-ab66c6c30ab9",
   "metadata": {},
   "outputs": [
    {
     "data": {
      "text/plain": [
       "<600x1185 sparse matrix of type '<class 'numpy.int64'>'\n",
       "\twith 4789 stored elements in Compressed Sparse Row format>"
      ]
     },
     "execution_count": 30,
     "metadata": {},
     "output_type": "execute_result"
    }
   ],
   "source": [
    "X_test  = vectorizer.transform(x_test)\n",
    "X_test"
   ]
  },
  {
   "cell_type": "code",
   "execution_count": 39,
   "id": "34e66337-c7eb-49f6-a1b2-5739c5b73842",
   "metadata": {},
   "outputs": [
    {
     "name": "stdout",
     "output_type": "stream",
     "text": [
      "Accuracy =  0.79\n"
     ]
    }
   ],
   "source": [
    "classifier = LogisticRegression()\n",
    "classifier.fit(X_train, y_train)\n",
    "score = classifier.score(X_test, y_test)\n",
    "score\n",
    "\n",
    "print(\"Accuracy = \", score)"
   ]
  },
  {
   "cell_type": "code",
   "execution_count": 40,
   "id": "9181e866-1c42-4b90-b590-8800494a364a",
   "metadata": {},
   "outputs": [
    {
     "name": "stdout",
     "output_type": "stream",
     "text": [
      "Accuracy for yelp data: 0.7960\n",
      "Accuracy for amazon data: 0.7960\n",
      "Accuracy for imdb data: 0.7487\n"
     ]
    }
   ],
   "source": [
    "for source in df['source'].unique():\n",
    "    df_source = df[df['source'] == source]\n",
    "    sentences = df_source['sentence'].values\n",
    "    y = df_source['label'].values\n",
    "\n",
    "    sentences_train, sentences_test, y_train, y_test = train_test_split(\n",
    "        sentences, y, test_size=0.25, random_state=1000)\n",
    "\n",
    "    vectorizer = CountVectorizer()\n",
    "    vectorizer.fit(sentences_train)\n",
    "    X_train = vectorizer.transform(sentences_train)\n",
    "    X_test  = vectorizer.transform(sentences_test)\n",
    "\n",
    "    classifier = LogisticRegression()\n",
    "    classifier.fit(X_train, y_train)\n",
    "    score = classifier.score(X_test, y_test)\n",
    "    print('Accuracy for {} data: {:.4f}'.format(source, score))"
   ]
  }
 ],
 "metadata": {
  "kernelspec": {
   "display_name": "Python 3 (ipykernel)",
   "language": "python",
   "name": "python3"
  },
  "language_info": {
   "codemirror_mode": {
    "name": "ipython",
    "version": 3
   },
   "file_extension": ".py",
   "mimetype": "text/x-python",
   "name": "python",
   "nbconvert_exporter": "python",
   "pygments_lexer": "ipython3",
   "version": "3.9.5"
  }
 },
 "nbformat": 4,
 "nbformat_minor": 5
}
